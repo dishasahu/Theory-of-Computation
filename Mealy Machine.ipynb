{
 "cells": [
  {
   "cell_type": "markdown",
   "metadata": {},
   "source": [
    "## Mealy Machine"
   ]
  },
  {
   "cell_type": "markdown",
   "metadata": {},
   "source": [
    "Aim : Design Mealy Machine using Dictionary and List"
   ]
  },
  {
   "cell_type": "markdown",
   "metadata": {},
   "source": [
    "1. using Dictionary and list"
   ]
  },
  {
   "cell_type": "code",
   "execution_count": 2,
   "metadata": {},
   "outputs": [
    {
     "name": "stdout",
     "output_type": "stream",
     "text": [
      "enter a string00\n",
      "a\n",
      "a\n",
      "even\n"
     ]
    }
   ],
   "source": [
    "dfa = {'a':{'1':['odd','b'],'0':['even','a']},'b':{'1':['even','a'],'0':['odd','b']}}\n",
    "\n",
    "\n",
    "class String_a:\n",
    "    def __init__(self,dfa):\n",
    "        self.current_state='a'\n",
    "        \n",
    "    def moves(self,st):\n",
    "        for i in range(len(st)):\n",
    "            sample=dfa[self.current_state][st[i]]\n",
    "            print(sample[1])\n",
    "            self.current_state=sample[1]\n",
    "            output=sample[0]\n",
    "        print(output)\n",
    "st=input(\"enter a string\")\n",
    "ob=String_a(dfa)\n",
    "ob.moves(st)  "
   ]
  },
  {
   "cell_type": "code",
   "execution_count": 4,
   "metadata": {},
   "outputs": [
    {
     "name": "stdout",
     "output_type": "stream",
     "text": [
      "enter a string0111\n",
      "a\n",
      "b\n",
      "a\n",
      "b\n",
      "odd\n"
     ]
    }
   ],
   "source": [
    "dfa = {'a':{'1':['odd','b'],'0':['even','a']},'b':{'1':['even','a'],'0':['odd','b']}}\n",
    "\n",
    "\n",
    "class String_a:\n",
    "    def __init__(self,dfa):\n",
    "        self.current_state='a'\n",
    "        \n",
    "    def moves(self,st):\n",
    "        for i in range(len(st)):\n",
    "            sample=dfa[self.current_state][st[i]]\n",
    "            print(sample[1])\n",
    "            self.current_state=sample[1]\n",
    "            output=sample[0]\n",
    "        print(output)\n",
    "st=input(\"enter a string\")\n",
    "ob=String_a(dfa)\n",
    "ob.moves(st)  "
   ]
  },
  {
   "cell_type": "code",
   "execution_count": null,
   "metadata": {},
   "outputs": [],
   "source": []
  },
  {
   "cell_type": "markdown",
   "metadata": {},
   "source": [
    "2. using Dictionary and Tuple"
   ]
  },
  {
   "cell_type": "code",
   "execution_count": 5,
   "metadata": {},
   "outputs": [
    {
     "name": "stdout",
     "output_type": "stream",
     "text": [
      "enter a string00\n",
      "a\n",
      "a\n",
      "even\n"
     ]
    }
   ],
   "source": [
    "dfa = {'a':{'1':('odd','b'),'0':('even','a')},'b':{'1':('even','a'),'0':('odd','b')}}\n",
    "\n",
    "\n",
    "class String_a:\n",
    "    def __init__(self,dfa):\n",
    "        self.current_state='a'\n",
    "        \n",
    "    def moves(self,st):\n",
    "        for i in range(len(st)):\n",
    "            sample=dfa[self.current_state][st[i]]\n",
    "            print(sample[1])\n",
    "            self.current_state=sample[1]\n",
    "            output=sample[0]\n",
    "        print(output)\n",
    "st=input(\"enter a string\")\n",
    "ob=String_a(dfa)\n",
    "ob.moves(st)  "
   ]
  },
  {
   "cell_type": "code",
   "execution_count": 6,
   "metadata": {},
   "outputs": [
    {
     "name": "stdout",
     "output_type": "stream",
     "text": [
      "enter a string011\n",
      "a\n",
      "b\n",
      "a\n",
      "even\n"
     ]
    }
   ],
   "source": [
    "dfa = {'a':{'1':('odd','b'),'0':('even','a')},'b':{'1':('even','a'),'0':('odd','b')}}\n",
    "\n",
    "\n",
    "class String_a:\n",
    "    def __init__(self,dfa):\n",
    "        self.current_state='a'\n",
    "        \n",
    "    def moves(self,st):\n",
    "        for i in range(len(st)):\n",
    "            sample=dfa[self.current_state][st[i]]\n",
    "            print(sample[1])\n",
    "            self.current_state=sample[1]\n",
    "            output=sample[0]\n",
    "        print(output)\n",
    "st=input(\"enter a string\")\n",
    "ob=String_a(dfa)\n",
    "ob.moves(st)  "
   ]
  },
  {
   "cell_type": "code",
   "execution_count": null,
   "metadata": {},
   "outputs": [],
   "source": []
  },
  {
   "cell_type": "markdown",
   "metadata": {},
   "source": [
    "3. using only Dictionary "
   ]
  },
  {
   "cell_type": "code",
   "execution_count": 10,
   "metadata": {},
   "outputs": [
    {
     "name": "stdout",
     "output_type": "stream",
     "text": [
      "enter a string00\n",
      "a\n",
      "even\n",
      "a\n",
      "even\n"
     ]
    }
   ],
   "source": [
    "dfa1 = {}\n",
    "dfa1[('a','0')]='a'\n",
    "dfa1[('a','1')]='b'\n",
    "dfa1[('b','0')]='b'\n",
    "dfa1[('b','1')]='a'\n",
    "\n",
    "dfa2 = {}\n",
    "dfa2[('a','0')]='even'\n",
    "dfa2[('a','1')]='odd'\n",
    "dfa2[('b','0')]='odd'\n",
    "dfa2[('b','1')]='even'\n",
    "\n",
    "class String_a:\n",
    "    def __init__(self,dfa1,dfa2):\n",
    "        self.current_state='a'\n",
    "        \n",
    "    def moves(self,st):\n",
    "        for i in range(len(st)):\n",
    "            self.current_state=dfa1[(self.current_state,st[i])]\n",
    "            print(self.current_state)\n",
    "            print(dfa2[(self.current_state,st[i])])\n",
    "st=input(\"enter a string\")\n",
    "ob=String_a(dfa1,dfa2)\n",
    "ob.moves(st)  "
   ]
  },
  {
   "cell_type": "code",
   "execution_count": 11,
   "metadata": {},
   "outputs": [
    {
     "name": "stdout",
     "output_type": "stream",
     "text": [
      "enter a string011\n",
      "a\n",
      "even\n",
      "b\n",
      "even\n",
      "a\n",
      "odd\n"
     ]
    }
   ],
   "source": [
    "dfa1 = {}\n",
    "dfa1[('a','0')]='a'\n",
    "dfa1[('a','1')]='b'\n",
    "dfa1[('b','0')]='b'\n",
    "dfa1[('b','1')]='a'\n",
    "\n",
    "dfa2 = {}\n",
    "dfa2[('a','0')]='even'\n",
    "dfa2[('a','1')]='odd'\n",
    "dfa2[('b','0')]='odd'\n",
    "dfa2[('b','1')]='even'\n",
    "\n",
    "class String_a:\n",
    "    def __init__(self,dfa1,dfa2):\n",
    "        self.current_state='a'\n",
    "        \n",
    "    def moves(self,st):\n",
    "        for i in range(len(st)):\n",
    "            self.current_state=dfa1[(self.current_state,st[i])]\n",
    "            print(self.current_state)\n",
    "            print(dfa2[(self.current_state,st[i])])\n",
    "st=input(\"enter a string\")\n",
    "ob=String_a(dfa1,dfa2)\n",
    "ob.moves(st)  "
   ]
  },
  {
   "cell_type": "code",
   "execution_count": null,
   "metadata": {},
   "outputs": [],
   "source": []
  },
  {
   "cell_type": "markdown",
   "metadata": {},
   "source": [
    "4. using Dictionary and Tuple"
   ]
  },
  {
   "cell_type": "code",
   "execution_count": 12,
   "metadata": {},
   "outputs": [
    {
     "name": "stdout",
     "output_type": "stream",
     "text": [
      "enter a string00\n",
      "a\n",
      "even\n",
      "a\n",
      "even\n"
     ]
    }
   ],
   "source": [
    "dfa1 = {}\n",
    "dfa1[('a','0')]=('a','even')\n",
    "dfa1[('a','1')]=('b','odd')\n",
    "dfa1[('b','0')]=('b','odd')\n",
    "dfa1[('b','1')]=('a','even')\n",
    "\n",
    "class String_a:\n",
    "    def __init__(self,dfa1):\n",
    "        self.current_state='a'\n",
    "        \n",
    "    def moves(self,st):\n",
    "        for i in range(len(st)):\n",
    "            self.current_state=dfa1[(self.current_state,st[i])][0]\n",
    "            print(self.current_state)\n",
    "            print(dfa1[(self.current_state,st[i])][1])\n",
    "st=input(\"enter a string\")\n",
    "ob=String_a(dfa1)\n",
    "ob.moves(st)  \n"
   ]
  },
  {
   "cell_type": "code",
   "execution_count": 13,
   "metadata": {},
   "outputs": [
    {
     "name": "stdout",
     "output_type": "stream",
     "text": [
      "enter a string011\n",
      "a\n",
      "even\n",
      "b\n",
      "even\n",
      "a\n",
      "odd\n"
     ]
    }
   ],
   "source": [
    "dfa1 = {}\n",
    "dfa1[('a','0')]=('a','even')\n",
    "dfa1[('a','1')]=('b','odd')\n",
    "dfa1[('b','0')]=('b','odd')\n",
    "dfa1[('b','1')]=('a','even')\n",
    "\n",
    "class String_a:\n",
    "    def __init__(self,dfa1):\n",
    "        self.current_state='a'\n",
    "        \n",
    "    def moves(self,st):\n",
    "        for i in range(len(st)):\n",
    "            self.current_state=dfa1[(self.current_state,st[i])][0]\n",
    "            print(self.current_state)\n",
    "            print(dfa1[(self.current_state,st[i])][1])\n",
    "st=input(\"enter a string\")\n",
    "ob=String_a(dfa1)\n",
    "ob.moves(st) "
   ]
  },
  {
   "cell_type": "code",
   "execution_count": null,
   "metadata": {},
   "outputs": [],
   "source": []
  }
 ],
 "metadata": {
  "kernelspec": {
   "display_name": "Python 3",
   "language": "python",
   "name": "python3"
  },
  "language_info": {
   "codemirror_mode": {
    "name": "ipython",
    "version": 3
   },
   "file_extension": ".py",
   "mimetype": "text/x-python",
   "name": "python",
   "nbconvert_exporter": "python",
   "pygments_lexer": "ipython3",
   "version": "3.7.1"
  }
 },
 "nbformat": 4,
 "nbformat_minor": 2
}

{
 "cells": [
  {
   "cell_type": "markdown",
   "metadata": {},
   "source": [
    "## Balanced Parenthesis"
   ]
  },
  {
   "cell_type": "markdown",
   "metadata": {},
   "source": [
    "Aim : Program in python to check whether parenthesis are balanced or not "
   ]
  },
  {
   "cell_type": "code",
   "execution_count": 1,
   "metadata": {},
   "outputs": [
    {
     "name": "stdout",
     "output_type": "stream",
     "text": [
      "enter the string{[]\n",
      "False\n"
     ]
    }
   ],
   "source": [
    "class Stack:\n",
    "    def __init__(self):\n",
    "        self.items=[]\n",
    "        self.p1=0\n",
    "        self.p2=0\n",
    "    def push(self,item):\n",
    "        self.items.append(item)\n",
    "    def pop(self):\n",
    "        return self.items.pop()\n",
    "    def is_empty(self):\n",
    "        return self.items == []\n",
    "    def is_match(self,p1,p2):\n",
    "        if self.p1 == '(' and self.p2 == ')':\n",
    "            return True\n",
    "        elif self.p1 == '[' and self.p2 == ']':\n",
    "            return True\n",
    "        elif self.p1 == '{' and self.p2 == '}':\n",
    "            return True\n",
    "        else:\n",
    "            return False\n",
    "    def is_balanced(self,paren_string):\n",
    "        balanced = True\n",
    "        index=0\n",
    "        \n",
    "        while index<len(paren_string) and balanced:\n",
    "            paren = paren_string[index]\n",
    "            if paren in '({[':\n",
    "                s.push(paren)\n",
    "            else:\n",
    "                if s.is_empty():\n",
    "                    balanced = False\n",
    "                else:\n",
    "                    top = s.pop()\n",
    "                    if s.is_match(top,paren):\n",
    "                        balanced = True\n",
    "                    else:\n",
    "                        balanced = False\n",
    "            index +=1\n",
    "            \n",
    "        if (s.is_empty()) and balanced == True:\n",
    "            return True\n",
    "        else:\n",
    "            return False\n",
    "        \n",
    "     \n",
    "s=Stack() \n",
    "string = input(\"enter the string\")\n",
    "result = s.is_balanced(string)\n",
    "print(result)"
   ]
  },
  {
   "cell_type": "code",
   "execution_count": null,
   "metadata": {},
   "outputs": [],
   "source": []
  }
 ],
 "metadata": {
  "kernelspec": {
   "display_name": "Python 3",
   "language": "python",
   "name": "python3"
  },
  "language_info": {
   "codemirror_mode": {
    "name": "ipython",
    "version": 3
   },
   "file_extension": ".py",
   "mimetype": "text/x-python",
   "name": "python",
   "nbconvert_exporter": "python",
   "pygments_lexer": "ipython3",
   "version": "3.7.1"
  }
 },
 "nbformat": 4,
 "nbformat_minor": 2
}

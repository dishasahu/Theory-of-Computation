{
 "cells": [
  {
   "cell_type": "markdown",
   "metadata": {},
   "source": [
    "## REGULAR EXPRESSION "
   ]
  },
  {
   "cell_type": "markdown",
   "metadata": {},
   "source": [
    " RE for string starting with any number of \"a\" followed by any number of \"b\""
   ]
  },
  {
   "cell_type": "code",
   "execution_count": 15,
   "metadata": {},
   "outputs": [
    {
     "name": "stdout",
     "output_type": "stream",
     "text": [
      "aaba\n",
      "YES! Their is a match\n"
     ]
    }
   ],
   "source": [
    "import re\n",
    "str=input()\n",
    "x=re.search(\"a*\\b*\",str)\n",
    "if x:\n",
    "    print(\"YES! Their is a match\")\n",
    "else:\n",
    "    print(\"NO match\")"
   ]
  },
  {
   "cell_type": "code",
   "execution_count": null,
   "metadata": {},
   "outputs": [],
   "source": []
  },
  {
   "cell_type": "markdown",
   "metadata": {},
   "source": [
    "RE for even number of a's"
   ]
  },
  {
   "cell_type": "code",
   "execution_count": 5,
   "metadata": {},
   "outputs": [
    {
     "name": "stdout",
     "output_type": "stream",
     "text": [
      "aaab\n",
      "RE doesn't contain even number of a's\n"
     ]
    }
   ],
   "source": [
    "import re\n",
    "str=input()\n",
    "x=len(re.findall(\"a\",str))%2\n",
    "if x==0:\n",
    "    print(\"RE contain even number of a's\")\n",
    "else:\n",
    "    print(\"RE doesn't contain even number of a's\")"
   ]
  },
  {
   "cell_type": "code",
   "execution_count": 6,
   "metadata": {},
   "outputs": [
    {
     "name": "stdout",
     "output_type": "stream",
     "text": [
      "abbababa\n",
      "RE contain even number of a's\n"
     ]
    }
   ],
   "source": [
    "import re\n",
    "str=input()\n",
    "x=len(re.findall(\"a\",str))%2\n",
    "if x==0:\n",
    "    print(\"RE contain even number of a's\")\n",
    "else:\n",
    "    print(\"RE doesn't contain even number of a's\")"
   ]
  },
  {
   "cell_type": "code",
   "execution_count": null,
   "metadata": {},
   "outputs": [],
   "source": []
  },
  {
   "cell_type": "markdown",
   "metadata": {},
   "source": [
    "RE having third letter from right side as a"
   ]
  },
  {
   "cell_type": "code",
   "execution_count": 13,
   "metadata": {},
   "outputs": [
    {
     "name": "stdout",
     "output_type": "stream",
     "text": [
      "aababa\n",
      "YES\n"
     ]
    }
   ],
   "source": [
    "import re\n",
    "str=input()\n",
    "x=re.search(\"[a-b]*a[a-b][a-b]\",str)\n",
    "if x:\n",
    "    print(\"YES\")\n",
    "else:\n",
    "    print(\"NO\")"
   ]
  },
  {
   "cell_type": "code",
   "execution_count": 14,
   "metadata": {},
   "outputs": [
    {
     "name": "stdout",
     "output_type": "stream",
     "text": [
      "aabbb\n",
      "NO\n"
     ]
    }
   ],
   "source": [
    "import re\n",
    "str=input()\n",
    "x=re.search(\"[a-b]*a[a-b][a-b]\",str[::-1])\n",
    "if x:\n",
    "    print(\"YES\")\n",
    "else:\n",
    "    print(\"NO\")"
   ]
  },
  {
   "cell_type": "code",
   "execution_count": null,
   "metadata": {},
   "outputs": [],
   "source": []
  },
  {
   "cell_type": "markdown",
   "metadata": {},
   "source": [
    "RE for string having atleast one a"
   ]
  },
  {
   "cell_type": "code",
   "execution_count": 2,
   "metadata": {},
   "outputs": [
    {
     "name": "stdout",
     "output_type": "stream",
     "text": [
      "bbbb\n",
      "NO\n"
     ]
    }
   ],
   "source": [
    "import re \n",
    "str = input()\n",
    "x=re.findall(\"a\",str)\n",
    "if (len(x)>=1):\n",
    "    print(\"YES\")\n",
    "else:\n",
    "    print(\"NO\")"
   ]
  },
  {
   "cell_type": "code",
   "execution_count": 3,
   "metadata": {},
   "outputs": [
    {
     "name": "stdout",
     "output_type": "stream",
     "text": [
      "abba\n",
      "YES\n"
     ]
    }
   ],
   "source": [
    "import re \n",
    "str = input()\n",
    "x=re.findall(\"a\",str)\n",
    "if (len(x)>=1):\n",
    "    print(\"YES\")\n",
    "else:\n",
    "    print(\"NO\")"
   ]
  },
  {
   "cell_type": "code",
   "execution_count": null,
   "metadata": {},
   "outputs": [],
   "source": []
  },
  {
   "cell_type": "markdown",
   "metadata": {},
   "source": [
    "RE for string having \"aab\" as a substring "
   ]
  },
  {
   "cell_type": "code",
   "execution_count": 1,
   "metadata": {},
   "outputs": [
    {
     "name": "stdout",
     "output_type": "stream",
     "text": [
      "abaabaa\n",
      "yes\n"
     ]
    }
   ],
   "source": [
    "import re\n",
    "str = input()\n",
    "x=re.search(\"[a-b]*aab[a-b]*\",str)\n",
    "if x:\n",
    "    print(\"yes\")\n",
    "else:\n",
    "    print(\"no\")\n",
    "    "
   ]
  },
  {
   "cell_type": "code",
   "execution_count": 4,
   "metadata": {},
   "outputs": [
    {
     "name": "stdout",
     "output_type": "stream",
     "text": [
      "ababa\n",
      "no\n"
     ]
    }
   ],
   "source": [
    "import re\n",
    "str = input()\n",
    "x=re.search(\"[a-b]*aab[a-b]*\",str)\n",
    "if x:\n",
    "    print(\"yes\")\n",
    "else:\n",
    "    print(\"no\")\n",
    "    "
   ]
  },
  {
   "cell_type": "code",
   "execution_count": null,
   "metadata": {},
   "outputs": [],
   "source": []
  },
  {
   "cell_type": "markdown",
   "metadata": {},
   "source": [
    "RE containing even number of \"a\" and odd number of \"b\""
   ]
  },
  {
   "cell_type": "code",
   "execution_count": 6,
   "metadata": {},
   "outputs": [
    {
     "name": "stdout",
     "output_type": "stream",
     "text": [
      "ababab\n",
      "NO\n"
     ]
    }
   ],
   "source": [
    "import re\n",
    "str = input()\n",
    "x=len(re.findall(\"a\",str))\n",
    "y=len(re.findall(\"b\",str))\n",
    "if x%2==0 and y%2!=0:\n",
    "    print(\"YES\")\n",
    "else:\n",
    "    print(\"NO\")"
   ]
  },
  {
   "cell_type": "code",
   "execution_count": 7,
   "metadata": {},
   "outputs": [
    {
     "name": "stdout",
     "output_type": "stream",
     "text": [
      "aabaabb\n",
      "YES\n"
     ]
    }
   ],
   "source": [
    "import re\n",
    "str = input()\n",
    "x=len(re.findall(\"a\",str))\n",
    "y=len(re.findall(\"b\",str))\n",
    "if x%2==0 and y%2!=0:\n",
    "    print(\"YES\")\n",
    "else:\n",
    "    print(\"NO\")"
   ]
  },
  {
   "cell_type": "code",
   "execution_count": null,
   "metadata": {},
   "outputs": [],
   "source": []
  },
  {
   "cell_type": "markdown",
   "metadata": {},
   "source": [
    "RE for string having even number of \"a\" and even number of \"b\""
   ]
  },
  {
   "cell_type": "code",
   "execution_count": 8,
   "metadata": {},
   "outputs": [
    {
     "name": "stdout",
     "output_type": "stream",
     "text": [
      "abbababa\n",
      "YES\n"
     ]
    }
   ],
   "source": [
    "import re\n",
    "str = input()\n",
    "x=len(re.findall(\"a\",str))\n",
    "y=len(re.findall(\"b\",str))\n",
    "if x%2==0 and y%2==0:\n",
    "    print(\"YES\")\n",
    "else:\n",
    "    print(\"NO\")"
   ]
  },
  {
   "cell_type": "code",
   "execution_count": 9,
   "metadata": {},
   "outputs": [
    {
     "name": "stdout",
     "output_type": "stream",
     "text": [
      "aabab\n",
      "NO\n"
     ]
    }
   ],
   "source": [
    "import re\n",
    "str = input()\n",
    "x=len(re.findall(\"a\",str))\n",
    "y=len(re.findall(\"b\",str))\n",
    "if x%2==0 and y%2==0:\n",
    "    print(\"YES\")\n",
    "else:\n",
    "    print(\"NO\")"
   ]
  },
  {
   "cell_type": "code",
   "execution_count": null,
   "metadata": {},
   "outputs": [],
   "source": []
  }
 ],
 "metadata": {
  "kernelspec": {
   "display_name": "Python 3",
   "language": "python",
   "name": "python3"
  },
  "language_info": {
   "codemirror_mode": {
    "name": "ipython",
    "version": 3
   },
   "file_extension": ".py",
   "mimetype": "text/x-python",
   "name": "python",
   "nbconvert_exporter": "python",
   "pygments_lexer": "ipython3",
   "version": "3.7.1"
  }
 },
 "nbformat": 4,
 "nbformat_minor": 2
}

{
 "cells": [
  {
   "cell_type": "markdown",
   "metadata": {},
   "source": [
    "## DFA "
   ]
  },
  {
   "cell_type": "markdown",
   "metadata": {},
   "source": [
    "Aim: Program in python to implement DFA (TYPE 1)"
   ]
  },
  {
   "cell_type": "code",
   "execution_count": null,
   "metadata": {},
   "outputs": [
    {
     "name": "stdout",
     "output_type": "stream",
     "text": [
      "enter the number of states4\n",
      "enter states: A\n",
      "enter states: B\n",
      "enter states: C\n",
      "enter states: D\n",
      "enter the keys2\n",
      "enter keys: 0\n",
      "enter keys: 1\n",
      "enter the final stateA\n",
      "fromAif0go:B\n",
      "fromAif1go:D\n",
      "fromBif0go:A\n",
      "fromBif1go:C\n",
      "fromCif0go:B\n",
      "fromCif1go:D\n",
      "fromDif0go:C\n",
      "fromDif1go:A\n",
      "enter the string to check:110011\n",
      "STRING IS ACCEPTED\n",
      "enter the string to check:1001\n",
      "STRING NOT ACCEPTED\n"
     ]
    }
   ],
   "source": [
    "# string accepting even number of a's and even no of b's\n",
    "\n",
    "states = int(input(\"enter the number of states\"))\n",
    "st = [input(\"enter states: \") for i in range(0,states)]\n",
    "key = int(input(\"enter the keys\"))\n",
    "keys = [input(\"enter keys: \") for i in range(0,key)]\n",
    "final = input(\"enter the final state\")\n",
    "\n",
    "k=[0 for i in range(len(st))]\n",
    "for i in range(len(st)):\n",
    "    k[i]=[0 for j in range(len(keys))]\n",
    "    for j in range(len(keys)):\n",
    "        k[i][j]=input('from' + st[i] + 'if' + keys[j] + 'go:')\n",
    "        \n",
    "def start(x,y):\n",
    "    l.append(k[st.index(x)][keys.index(y)])\n",
    "    return k[st.index(x)][keys.index(y)]\n",
    "while True:\n",
    "    l = []\n",
    "    initial = st[0]\n",
    "    S = input(\"enter the string to check:\")\n",
    "    for i in S:\n",
    "        initial = start(initial,i)\n",
    "    if l[-1] == final:\n",
    "        print(\"STRING IS ACCEPTED\")\n",
    "    else:\n",
    "        print(\"STRING NOT ACCEPTED\")    "
   ]
  },
  {
   "cell_type": "code",
   "execution_count": null,
   "metadata": {},
   "outputs": [],
   "source": []
  },
  {
   "cell_type": "markdown",
   "metadata": {},
   "source": [
    " Aim :Program to implement DFA accepting even number of 0's and 1's"
   ]
  },
  {
   "cell_type": "code",
   "execution_count": 15,
   "metadata": {},
   "outputs": [
    {
     "name": "stdout",
     "output_type": "stream",
     "text": [
      "enter a string11001100\n",
      "accepted\n"
     ]
    }
   ],
   "source": [
    "d=dict()\n",
    "d[(0,'a')]=1\n",
    "d[(0,'b')]=0\n",
    "d[(1,'a')]=0\n",
    "d[(1,'b')]=2\n",
    "d[(2,'a')]=3\n",
    "d[(2,'b')]=1\n",
    "d[(3,'a')]=2\n",
    "d[(3,'b')]=0\n",
    "fs=0\n",
    "c=0\n",
    "s=input(\"enter a string\")\n",
    "for i in s:\n",
    "        if i=='a':\n",
    "            c=d[c,i]\n",
    "        elif i=='b':\n",
    "            c=d[c,i]\n",
    "if c==fs:\n",
    "    print(\"accepted\")\n",
    "else:\n",
    "    print(\"not accepted\")"
   ]
  },
  {
   "cell_type": "code",
   "execution_count": null,
   "metadata": {},
   "outputs": [],
   "source": []
  }
 ],
 "metadata": {
  "kernelspec": {
   "display_name": "Python 3",
   "language": "python",
   "name": "python3"
  },
  "language_info": {
   "codemirror_mode": {
    "name": "ipython",
    "version": 3
   },
   "file_extension": ".py",
   "mimetype": "text/x-python",
   "name": "python",
   "nbconvert_exporter": "python",
   "pygments_lexer": "ipython3",
   "version": "3.7.1"
  }
 },
 "nbformat": 4,
 "nbformat_minor": 2
}

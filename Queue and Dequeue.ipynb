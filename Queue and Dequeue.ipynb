{
 "cells": [
  {
   "cell_type": "markdown",
   "metadata": {},
   "source": [
    "Aim : Python program to implement Queue data stucture "
   ]
  },
  {
   "cell_type": "code",
   "execution_count": 1,
   "metadata": {},
   "outputs": [
    {
     "name": "stdout",
     "output_type": "stream",
     "text": [
      "enter choice : 0 for exit, 1 for enque , 2 for dequeu,3 for size:1\n",
      "enter the element2\n",
      "[2]\n",
      "enter choice : 0 for exit 1 for push and 2 for pop:1\n",
      "enter the element3\n",
      "[2, 3]\n",
      "enter choice : 0 for exit 1 for push and 2 for pop:1\n",
      "enter the element4\n",
      "[2, 3, 4]\n",
      "enter choice : 0 for exit 1 for push and 2 for pop:1\n",
      "enter the element34\n",
      "[2, 3, 4, 34]\n",
      "enter choice : 0 for exit 1 for push and 2 for pop:1\n",
      "enter the element3\n",
      "queue is full\n",
      "enter choice : 0 for exit 1 for push and 2 for pop:0\n"
     ]
    }
   ],
   "source": [
    "class Queue:\n",
    "    def __init__(self):\n",
    "        self.l=[]\n",
    "    def enque(self,item):\n",
    "        if len(self.l)>3:\n",
    "            print(\"queue is full\") \n",
    "        else:\n",
    "            self.l.append(item)\n",
    "            print(self.l)\n",
    "    def delete(self):\n",
    "        if len(self.l)==0:\n",
    "            print(\"queue is empty\")\n",
    "        else:\n",
    "            self.l.reverse()\n",
    "            print (self.l)\n",
    "            print(self.l.pop())\n",
    "            self.l.reverse()\n",
    "            print(self.l)\n",
    "def size(self):\n",
    "    len(self.l)\n",
    "    \n",
    "\n",
    "Q = Queue()\n",
    "choice=int(input(\"enter choice : 0 for exit, 1 for enque , 2 for dequeu,3 for size:\"))\n",
    "while choice!=0:\n",
    "    if choice==1:\n",
    "        item = int(input(\"enter the element\"))\n",
    "        Q.enque(item)\n",
    "    elif choice==3:\n",
    "        Q.size()\n",
    "    else:\n",
    "        Q.delete()\n",
    "    choice=int(input(\"enter choice : 0 for exit 1 for push and 2 for pop:\"))"
   ]
  },
  {
   "cell_type": "code",
   "execution_count": null,
   "metadata": {},
   "outputs": [],
   "source": []
  },
  {
   "cell_type": "markdown",
   "metadata": {},
   "source": [
    "Aim: Python program to implement dequeue   "
   ]
  },
  {
   "cell_type": "code",
   "execution_count": 1,
   "metadata": {},
   "outputs": [
    {
     "name": "stdout",
     "output_type": "stream",
     "text": [
      "enter choice : 0 for exit, 1 for r_enqueue ,2 for f_enqueue, 3 for f_delete,4 for r_delete,5 for size:1\n",
      "enter the element2\n",
      "[2]\n",
      "enter choice : 0 for exit , 1 for r_enqueue ,2 for f_enqueue, 3 for f_delete,4 for r_delete,5 for size:2\n",
      "enter the element3\n",
      "[2, 3]\n",
      "enter choice : 0 for exit , 1 for r_enqueue ,2 for f_enqueue, 3 for f_delete,4 for r_delete,5 for size:2\n",
      "enter the element4\n",
      "[2, 3, 4]\n",
      "enter choice : 0 for exit , 1 for r_enqueue ,2 for f_enqueue, 3 for f_delete,4 for r_delete,5 for size:1\n",
      "enter the element1\n",
      "dequeue is full\n",
      "enter choice : 0 for exit , 1 for r_enqueue ,2 for f_enqueue, 3 for f_delete,4 for r_delete,5 for size:5\n",
      "enter choice : 0 for exit , 1 for r_enqueue ,2 for f_enqueue, 3 for f_delete,4 for r_delete,5 for size:3\n",
      "4\n",
      "[2, 3]\n",
      "enter choice : 0 for exit , 1 for r_enqueue ,2 for f_enqueue, 3 for f_delete,4 for r_delete,5 for size:4\n",
      "2\n",
      "[3]\n",
      "enter choice : 0 for exit , 1 for r_enqueue ,2 for f_enqueue, 3 for f_delete,4 for r_delete,5 for size:0\n"
     ]
    }
   ],
   "source": [
    "class deQueue:\n",
    "    def __init__(self):\n",
    "        self.dequeue=[]\n",
    "    def r_enqueue(self,item):\n",
    "        if len(self.dequeue)>2:\n",
    "            print(\"dequeue is full\") \n",
    "        else:\n",
    "            self.dequeue.insert(0,item)\n",
    "            print(self.dequeue)\n",
    "    def f_enqueue(self,item):\n",
    "        if len(self.dequeue)>2:\n",
    "            print(\"dequeue is full\") \n",
    "        else:\n",
    "            self.dequeue.append(item)\n",
    "            print(self.dequeue)\n",
    "            \n",
    "    def r_delete(self):\n",
    "        if len(self.dequeue)==0:\n",
    "            print(\"queue is empty\")\n",
    "        else:\n",
    "            self.dequeue.reverse()\n",
    "            print(self.dequeue.pop())\n",
    "            self.dequeue.reverse()\n",
    "            print(self.dequeue)\n",
    "            \n",
    "    def f_delete(self):\n",
    "        if len(self.dequeue)==0:\n",
    "            print(\"queue is empty\")\n",
    "        else:\n",
    "            print(self.dequeue.pop())\n",
    "            print(self.dequeue)        \n",
    "\n",
    "    def size(self):\n",
    "        len(self.dequeue)\n",
    "    \n",
    "\n",
    "Q = deQueue()\n",
    "choice=int(input(\"enter choice : 0 for exit, 1 for r_enqueue ,2 for f_enqueue, 3 for f_delete,4 for r_delete,5 for size:\"))\n",
    "while choice!=0:\n",
    "    if choice==1:\n",
    "        item = int(input(\"enter the element\"))\n",
    "        Q.r_enqueue(item)\n",
    "    elif choice==2:\n",
    "        item = int(input(\"enter the element\"))\n",
    "        Q.f_enqueue(item)\n",
    "    elif choice==3:\n",
    "        Q.f_delete()\n",
    "    elif choice==4:\n",
    "        Q.r_delete()\n",
    "    else :\n",
    "        Q.size()\n",
    "    choice=int(input(\"enter choice : 0 for exit , 1 for r_enqueue ,2 for f_enqueue, 3 for f_delete,4 for r_delete,5 for size:\"))"
   ]
  }
 ],
 "metadata": {
  "kernelspec": {
   "display_name": "Python 3",
   "language": "python",
   "name": "python3"
  },
  "language_info": {
   "codemirror_mode": {
    "name": "ipython",
    "version": 3
   },
   "file_extension": ".py",
   "mimetype": "text/x-python",
   "name": "python",
   "nbconvert_exporter": "python",
   "pygments_lexer": "ipython3",
   "version": "3.7.1"
  }
 },
 "nbformat": 4,
 "nbformat_minor": 2
}
